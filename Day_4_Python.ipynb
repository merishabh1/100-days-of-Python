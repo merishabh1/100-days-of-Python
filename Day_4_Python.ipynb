{
  "nbformat": 4,
  "nbformat_minor": 0,
  "metadata": {
    "colab": {
      "provenance": [],
      "authorship_tag": "ABX9TyMSIO/TJRnvQinMFjnKxMDk",
      "include_colab_link": true
    },
    "kernelspec": {
      "name": "python3",
      "display_name": "Python 3"
    },
    "language_info": {
      "name": "python"
    }
  },
  "cells": [
    {
      "cell_type": "markdown",
      "metadata": {
        "id": "view-in-github",
        "colab_type": "text"
      },
      "source": [
        "<a href=\"https://colab.research.google.com/github/merishabh1/100-days-of-Python/blob/main/Day_4_Python.ipynb\" target=\"_parent\"><img src=\"https://colab.research.google.com/assets/colab-badge.svg\" alt=\"Open In Colab\"/></a>"
      ]
    },
    {
      "cell_type": "code",
      "execution_count": 4,
      "metadata": {
        "colab": {
          "base_uri": "https://localhost:8080/"
        },
        "id": "kGLuu3H6uQcK",
        "outputId": "ad38b9af-a86b-4636-b786-637247606892"
      },
      "outputs": [
        {
          "output_type": "stream",
          "name": "stdout",
          "text": [
            "7\n",
            "0.8406524685085233\n",
            "2.106512874716952\n",
            "Your love score is 68\n"
          ]
        }
      ],
      "source": [
        "import random\n",
        "\n",
        "random_integer = random.randint(1,10)\n",
        "print(random_integer)\n",
        "\n",
        "random_float = random.random()\n",
        "print(random_float)\n",
        "\n",
        "random_float = random.random() * 5\n",
        "print(random_float)\n",
        "\n",
        "love_score = random.randint(1,100)\n",
        "print(f\"Your love score is {love_score}\")\n"
      ]
    },
    {
      "cell_type": "code",
      "source": [
        "random_side = random.randint(0,1)\n",
        "if random_side == 1:\n",
        "    print(\"Heads\")\n",
        "else:\n",
        "    print(\"Tails\")"
      ],
      "metadata": {
        "colab": {
          "base_uri": "https://localhost:8080/"
        },
        "id": "b-ZXt-6rxo18",
        "outputId": "13492b7f-9fdd-45de-bbb8-297b43b3fbdb"
      },
      "execution_count": 9,
      "outputs": [
        {
          "output_type": "stream",
          "name": "stdout",
          "text": [
            "Tails\n"
          ]
        }
      ]
    },
    {
      "cell_type": "code",
      "source": [
        "import random\n",
        "names_string = input(\"Give me everybody's names, separated by a comma. \")\n",
        "names = names_string.split(\", \")\n",
        "num_items = len(names)\n",
        "random_choice = random.randint(0,num_items-1)\n",
        "person_paying_bill = names[random_choice]\n",
        "print(person_paying_bill + \" is going to buy the meal today!\")"
      ],
      "metadata": {
        "colab": {
          "base_uri": "https://localhost:8080/"
        },
        "id": "HHds8IoHznaj",
        "outputId": "d5efc2fb-67b1-4de5-b7f6-4d6637e84fac"
      },
      "execution_count": 11,
      "outputs": [
        {
          "output_type": "stream",
          "name": "stdout",
          "text": [
            "Give me everybody's names, separated by a comma. Ram, Hrishabh, Om, Sadiq, Rishabh\n",
            "Hrishabh is going to buy the meal today!\n"
          ]
        }
      ]
    },
    {
      "cell_type": "code",
      "source": [
        "import random\n",
        "names_string = input(\"Give me everybody's names, separated by a comma. \")\n",
        "names = names_string.split(\", \")\n",
        "person_paying_bill = random.choice(names)\n",
        "print(person_paying_bill + \" is going to buy the meal today!\")"
      ],
      "metadata": {
        "colab": {
          "base_uri": "https://localhost:8080/"
        },
        "id": "A8D2dHoI4gPs",
        "outputId": "e1208aa2-fb43-4aad-8cd2-6ef7c0fd3d02"
      },
      "execution_count": 12,
      "outputs": [
        {
          "output_type": "stream",
          "name": "stdout",
          "text": [
            "Give me everybody's names, separated by a comma. Ram, Hrishabh, Om, Sadiq, Rishabh\n",
            "Sadiq is going to buy the meal today!\n"
          ]
        }
      ]
    },
    {
      "cell_type": "code",
      "source": [
        "\n",
        "row1 = [\"⬜️\",\"️⬜️\",\"️⬜️\"]\n",
        "row2 = [\"⬜️\",\"⬜️\",\"️⬜️\"]\n",
        "row3 = [\"⬜️️\",\"⬜️️\",\"⬜️️\"]\n",
        "map = [row1, row2, row3]\n",
        "print(f\"{row1}\\n{row2}\\n{row3}\")\n",
        "position = input(\"Where do you want to put the treasure? \")\n",
        "\n",
        "horizontal = int(position[0])\n",
        "vertical = int(position[1])\n",
        "map[vertical-1][horizontal-1] = \"X\"\n",
        "\n",
        "print(f\"{row1}\\n{row2}\\n{row3}\")\n",
        "\n"
      ],
      "metadata": {
        "colab": {
          "base_uri": "https://localhost:8080/"
        },
        "id": "D0-bHtsP4yO9",
        "outputId": "a061673a-e498-4317-8aca-38cbb2bc0c3a"
      },
      "execution_count": 13,
      "outputs": [
        {
          "output_type": "stream",
          "name": "stdout",
          "text": [
            "['⬜️', '️⬜️', '️⬜️']\n",
            "['⬜️', '⬜️', '️⬜️']\n",
            "['⬜️️', '⬜️️', '⬜️️']\n",
            "Where do you want to put the treasure? 23\n",
            "['⬜️', '️⬜️', '️⬜️']\n",
            "['⬜️', '⬜️', '️⬜️']\n",
            "['⬜️️', 'X', '⬜️️']\n"
          ]
        }
      ]
    },
    {
      "cell_type": "code",
      "source": [
        "#Day 4 Project: Rock Paper Scissors\n",
        "\n",
        "import random\n",
        "\n",
        "rock = '''\n",
        "    _______\n",
        "---'   ____)\n",
        "      (_____)\n",
        "      (_____)\n",
        "      (____)\n",
        "---.__(___)\n",
        "'''\n",
        "\n",
        "paper = '''\n",
        "    _______\n",
        "---'   ____)____\n",
        "          ______)\n",
        "          _______)\n",
        "         _______)\n",
        "---.__________)\n",
        "'''\n",
        "\n",
        "scissors = '''\n",
        "    _______\n",
        "---'   ____)____\n",
        "          ______)\n",
        "       __________)\n",
        "      (____)\n",
        "---.__(___)\n",
        "'''\n",
        "\n",
        "game_images = [rock, paper, scissors]\n",
        "\n",
        "user_choice = int(input(\"What do you choose? Type 0 for Rock, 1 for Paper or 2 for Scissors.\\n\"))\n",
        "if user_choice >= 3 or user_choice < 0: \n",
        "  print(\"You typed an invalid number, you lose!\")\n",
        "else: \n",
        "  print(game_images[user_choice])\n",
        "\n",
        "  computer_choice = random.randint(0, 2)\n",
        "  print(\"Computer chose:\")\n",
        "  print(game_images[computer_choice])\n",
        "\n",
        "  if user_choice == 0 and computer_choice == 2:\n",
        "    print(\"You win!\")\n",
        "  elif computer_choice == 0 and user_choice == 2:\n",
        "    print(\"You lose\")\n",
        "  elif computer_choice > user_choice:\n",
        "    print(\"You lose\")\n",
        "  elif user_choice > computer_choice:\n",
        "    print(\"You win!\")\n",
        "  elif computer_choice == user_choice:\n",
        "    print(\"It's a draw\")\n"
      ],
      "metadata": {
        "colab": {
          "base_uri": "https://localhost:8080/"
        },
        "id": "fLI_ko1M8k0Q",
        "outputId": "640612fe-a60d-43de-d661-3c19e8883ebe"
      },
      "execution_count": 14,
      "outputs": [
        {
          "output_type": "stream",
          "name": "stdout",
          "text": [
            "What do you choose? Type 0 for Rock, 1 for Paper or 2 for Scissors.\n",
            "1\n",
            "\n",
            "    _______\n",
            "---'   ____)____\n",
            "          ______)\n",
            "          _______)\n",
            "         _______)\n",
            "---.__________)\n",
            "\n",
            "Computer chose:\n",
            "\n",
            "    _______\n",
            "---'   ____)____\n",
            "          ______)\n",
            "          _______)\n",
            "         _______)\n",
            "---.__________)\n",
            "\n",
            "It's a draw\n"
          ]
        }
      ]
    }
  ]
}