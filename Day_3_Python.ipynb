{
  "nbformat": 4,
  "nbformat_minor": 0,
  "metadata": {
    "colab": {
      "provenance": [],
      "authorship_tag": "ABX9TyM2QD+fE7HOeILQaAz9YMen",
      "include_colab_link": true
    },
    "kernelspec": {
      "name": "python3",
      "display_name": "Python 3"
    },
    "language_info": {
      "name": "python"
    }
  },
  "cells": [
    {
      "cell_type": "markdown",
      "metadata": {
        "id": "view-in-github",
        "colab_type": "text"
      },
      "source": [
        "<a href=\"https://colab.research.google.com/github/merishabh1/100-days-of-Python/blob/main/Day_3_Python.ipynb\" target=\"_parent\"><img src=\"https://colab.research.google.com/assets/colab-badge.svg\" alt=\"Open In Colab\"/></a>"
      ]
    },
    {
      "cell_type": "code",
      "source": [
        "print(\"Welcome to the rollercoaster!\")\n",
        "height = int(input(\"What is your height in cm? \"))\n",
        "\n",
        "if height >=120:\n",
        "  print(\"You can ride the rollercoaster\")\n",
        "else:\n",
        "  print(\"Sorry, you have to grow taller before you can ride.\")"
      ],
      "metadata": {
        "colab": {
          "base_uri": "https://localhost:8080/"
        },
        "id": "mO8ZEW0xia3C",
        "outputId": "96661135-ced1-44e8-95eb-58568304d349"
      },
      "execution_count": 1,
      "outputs": [
        {
          "output_type": "stream",
          "name": "stdout",
          "text": [
            "Welcome to the rollercoaster!\n",
            "What is your height in cm? 150\n",
            "You can ride the rollercoaster\n"
          ]
        }
      ]
    },
    {
      "cell_type": "code",
      "execution_count": 2,
      "metadata": {
        "colab": {
          "base_uri": "https://localhost:8080/"
        },
        "id": "_loM6VlgeuUo",
        "outputId": "56efaa24-4120-4194-c530-450037d15c17"
      },
      "outputs": [
        {
          "output_type": "stream",
          "name": "stdout",
          "text": [
            "Which number do you want to check? 50\n",
            "This is an even number.\n"
          ]
        }
      ],
      "source": [
        "#Write a program that works out whether if a given number is an odd or even number.\n",
        "number = int(input(\"Which number do you want to check? \"))\n",
        "if number % 2 == 0:\n",
        "    print(\"This is an even number.\")\n",
        "else:\n",
        "    print(\"This is an odd number.\")"
      ]
    },
    {
      "cell_type": "code",
      "source": [
        "print(\"Welcome to the rollercoaster!\")\n",
        "height = int(input(\"What is your height in cm? \"))\n",
        "\n",
        "if height >=120:\n",
        "  print(\"You can ride the rollercoaster\")\n",
        "  age = int(input(\"What is your age? \"))\n",
        "  if age < 12:\n",
        "    print(\"Please pay $5.\")\n",
        "  elif age <=18:\n",
        "    print(\"Please pay $7.\")\n",
        "  else:\n",
        "    print(\"Please pay $12.\")\n",
        "else:\n",
        "  print(\"Sorry, you have to grow taller before you can ride.\")"
      ],
      "metadata": {
        "colab": {
          "base_uri": "https://localhost:8080/"
        },
        "id": "hG6mBWkAjNJM",
        "outputId": "5d2fbc08-c629-4533-dd88-ca45011f58e4"
      },
      "execution_count": 3,
      "outputs": [
        {
          "output_type": "stream",
          "name": "stdout",
          "text": [
            "Welcome to the rollercoaster!\n",
            "What is your height in cm? 125\n",
            "You can ride the rollercoaster\n",
            "What is your age? 15\n",
            "Please pay $7.\n"
          ]
        }
      ]
    },
    {
      "cell_type": "code",
      "source": [
        "height = float(input(\"enter your height in m: \"))\n",
        "weight = float(input(\"enter your weight in kg: \"))\n",
        "bmi = round(weight / height ** 2)\n",
        "if bmi < 18.5:\n",
        "    print(f\"Your BMI is {bmi}, you are underweight.\")\n",
        "elif bmi < 25:\n",
        "    print(f\"Your BMI is {bmi}, you have a normal weight.\")\n",
        "elif bmi < 30:\n",
        "    print(f\"Your BMI is {bmi}, you are slightly overweight.\")\n",
        "elif bmi < 35:\n",
        "    print(f\"Your BMI is {bmi}, you are obese.\")\n",
        "else:\n",
        "    print(f\"Your BMI is {bmi}, you are clinically obese.\")"
      ],
      "metadata": {
        "colab": {
          "base_uri": "https://localhost:8080/"
        },
        "id": "cldat5VVjOR3",
        "outputId": "7adb45fa-7836-4c50-d79e-2eb630f32f07"
      },
      "execution_count": 4,
      "outputs": [
        {
          "output_type": "stream",
          "name": "stdout",
          "text": [
            "enter your height in m: 1.7\n",
            "enter your weight in kg: 70\n",
            "Your BMI is 24, you have a normal weight.\n"
          ]
        }
      ]
    },
    {
      "cell_type": "code",
      "source": [
        "#Write a program that works out whether if a given year is a leap year\n",
        "year = int(input(\"Which year do you want to check? \"))\n",
        "if year % 4 == 0:\n",
        "    if year %  100 == 0:\n",
        "        if year % 400 == 0:\n",
        "            print(\"Leap year.\")\n",
        "        else:\n",
        "            print(\"Not leap year.\")\n",
        "    else:\n",
        "        print(\"leap year.\")\n",
        "else:\n",
        "    print(\"Not leap year.\")  "
      ],
      "metadata": {
        "colab": {
          "base_uri": "https://localhost:8080/"
        },
        "id": "siYbUt4vkx28",
        "outputId": "dd8d01bf-72c0-4f19-f418-1bdb59b1368d"
      },
      "execution_count": 7,
      "outputs": [
        {
          "output_type": "stream",
          "name": "stdout",
          "text": [
            "Which year do you want to check? 2100\n",
            "Not leap year.\n"
          ]
        }
      ]
    },
    {
      "cell_type": "code",
      "source": [
        "print(\"Welcome to the rollercoaster!\")\n",
        "height = int(input(\"What is your height in cm? \"))\n",
        "bill = 0\n",
        "if height >=120:\n",
        "  print(\"You can ride the rollercoaster\")\n",
        "  age = int(input(\"What is your age? \"))\n",
        "  if age < 12:\n",
        "    bill = 5\n",
        "    print(\"Child tickets are $5.\")\n",
        "  elif age <=18:\n",
        "    bill = 7\n",
        "    print(\"Youth tickets are $7.\")\n",
        "  else:\n",
        "    bill = 12\n",
        "    print(\"Adult tickets are $12.\")\n",
        "  wants_photo = input(\"Do you want a photo taken? Y or N. \")\n",
        "  if wants_photo == \"Y\":\n",
        "    bill += 3\n",
        "  print(f\"Your final bill is {bill}\")\n",
        "else:\n",
        "  print(\"Sorry, you have to grow taller before you can ride.\")"
      ],
      "metadata": {
        "colab": {
          "base_uri": "https://localhost:8080/"
        },
        "id": "lsKrEXQ_sETu",
        "outputId": "3229c5e8-d63e-490d-d6c0-3fcf739e9614"
      },
      "execution_count": 10,
      "outputs": [
        {
          "output_type": "stream",
          "name": "stdout",
          "text": [
            "Welcome to the rollercoaster!\n",
            "What is your height in cm? 170\n",
            "You can ride the rollercoaster\n",
            "What is your age? 25\n",
            "Adult tickets are $12.\n",
            "Do you want a photo taken? Y or N. Y\n",
            "Your final bill is 15\n"
          ]
        }
      ]
    },
    {
      "cell_type": "code",
      "source": [
        "print(\"Welcome to Python Pizza Deliveries!\")\n",
        "size = input(\"What size pizza do you want? S, M, or L \")\n",
        "add_pepperoni = input(\"Do you want pepperoni? Y or N \")\n",
        "extra_cheese = input(\"Do you want extra cheese? Y or N \")\n",
        "\n",
        "bill = 0\n",
        "\n",
        "if size == \"S\":\n",
        "    bill += 15\n",
        "elif size == \"M\":\n",
        "    bill += 20\n",
        "else:\n",
        "    bill += 25\n",
        "\n",
        "if add_pepperoni == \"Y\":\n",
        "    if size ==\"S\":\n",
        "        bill +=2\n",
        "    else:\n",
        "        bill += 3\n",
        "\n",
        "if extra_cheese == \"Y\":\n",
        "    bill +=1\n",
        "\n",
        "print(f\"Your final bill is ${bill}.\")"
      ],
      "metadata": {
        "colab": {
          "base_uri": "https://localhost:8080/"
        },
        "id": "4T1Voi7MsE1q",
        "outputId": "e86b86b4-6855-484e-8131-ba6a85cc755d"
      },
      "execution_count": 9,
      "outputs": [
        {
          "output_type": "stream",
          "name": "stdout",
          "text": [
            "Welcome to Python Pizza Deliveries!\n",
            "What size pizza do you want? S, M, or L S\n",
            "Do you want pepperoni? Y or N Y\n",
            "Do you want extra cheese? Y or N N\n",
            "Your final bill is $17.\n"
          ]
        }
      ]
    },
    {
      "cell_type": "code",
      "source": [
        "print(\"Welcome to the rollercoaster!\")\n",
        "height = int(input(\"What is your height in cm? \"))\n",
        "bill = 0\n",
        "if height >=120:\n",
        "  print(\"You can ride the rollercoaster\")\n",
        "  age = int(input(\"What is your age? \"))\n",
        "  if age < 12:\n",
        "    bill = 5\n",
        "    print(\"Child tickets are $5.\")\n",
        "  elif age <=18:\n",
        "    bill = 7\n",
        "    print(\"Youth tickets are $7.\")\n",
        "  elif age >=45 and age <=55:\n",
        "    print(\"Everything is going to be ok. Have a free ride on us!\")\n",
        "  else:\n",
        "    bill = 12\n",
        "    print(\"Adult tickets are $12.\")\n",
        "  wants_photo = input(\"Do you want a photo taken? Y or N. \")\n",
        "  if wants_photo == \"Y\":\n",
        "    bill += 3\n",
        "  print(f\"Your final bill is {bill}\")\n",
        "else:\n",
        "  print(\"Sorry, you have to grow taller before you can ride.\")"
      ],
      "metadata": {
        "colab": {
          "base_uri": "https://localhost:8080/"
        },
        "id": "q8z7Auy10cJH",
        "outputId": "b429aa3e-4555-4b03-fc0f-57c5202f9a29"
      },
      "execution_count": 11,
      "outputs": [
        {
          "output_type": "stream",
          "name": "stdout",
          "text": [
            "Welcome to the rollercoaster!\n",
            "What is your height in cm? 170\n",
            "You can ride the rollercoaster\n",
            "What is your age? 46\n",
            "Everything is going to be ok. Have a free ride on us!\n",
            "Do you want a photo taken? Y or N. Y\n",
            "Your final bill is 3\n"
          ]
        }
      ]
    },
    {
      "cell_type": "code",
      "source": [
        "print(\"Welcome to the Love Calculator!\")\n",
        "name1 = input(\"What is your name? \\n\")\n",
        "name2 = input(\"What is their name? \\n\")\n",
        "combined_string = name1 + name2\n",
        "\n",
        "lower_case_string =combined_string.lower()\n",
        "\n",
        "t= lower_case_string.count(\"t\")\n",
        "r= lower_case_string.count(\"r\")\n",
        "u= lower_case_string.count(\"u\")\n",
        "e= lower_case_string.count(\"e\")\n",
        "\n",
        "true = t + r + u + e\n",
        "\n",
        "l= lower_case_string.count(\"l\")\n",
        "o= lower_case_string.count(\"o\")\n",
        "v= lower_case_string.count(\"v\")\n",
        "e= lower_case_string.count(\"e\")\n",
        "\n",
        "love = l + o + v + e\n",
        "\n",
        "love_score = int(str(true) + str(love))\n",
        "\n",
        "if love_score < 10 or love_score > 90:\n",
        "    print(f\"Your score is {love_score}, you go together like coke and mentos.\")\n",
        "elif love_score < 50 and love_score > 40:\n",
        "    print(f\"Your score is {love_score}, you are alright together.\")\n",
        "else:\n",
        "    print(f\"Your score is {love_score}.\")"
      ],
      "metadata": {
        "id": "R3cq4I3748yq"
      },
      "execution_count": null,
      "outputs": []
    },
    {
      "cell_type": "code",
      "source": [
        "#Day 3 Project : Treasure Island\n",
        "print('''\n",
        "*******************************************************************************\n",
        "          |                   |                  |                     |\n",
        " _________|________________.=\"\"_;=.______________|_____________________|_______\n",
        "|                   |  ,-\"_,=\"\"     `\"=.|                  |\n",
        "|___________________|__\"=._o`\"-._        `\"=.______________|___________________\n",
        "          |                `\"=._o`\"=._      _`\"=._                     |\n",
        " _________|_____________________:=._o \"=._.\"_.-=\"'\"=.__________________|_______\n",
        "|                   |    __.--\" , ; `\"=._o.\" ,-\"\"\"-._ \".   |\n",
        "|___________________|_._\"  ,. .` ` `` ,  `\"-._\"-._   \". '__|___________________\n",
        "          |           |o`\"=._` , \"` `; .\". ,  \"-._\"-._; ;              |\n",
        " _________|___________| ;`-.o`\"=._; .\" ` '`.\"\\` . \"-._ /_______________|_______\n",
        "|                   | |o;    `\"-.o`\"=._``  '` \" ,__.--o;   |\n",
        "|___________________|_| ;     (#) `-.o `\"=.`_.--\"_o.-; ;___|___________________\n",
        "____/______/______/___|o;._    \"      `\".o|o_.--\"    ;o;____/______/______/____\n",
        "/______/______/______/_\"=._o--._        ; | ;        ; ;/______/______/______/_\n",
        "____/______/______/______/__\"=._o--._   ;o|o;     _._;o;____/______/______/____\n",
        "/______/______/______/______/____\"=._o._; | ;_.--\"o.--\"_/______/______/______/_\n",
        "____/______/______/______/______/_____\"=.o|o_.--\"\"___/______/______/______/____\n",
        "/______/______/______/______/______/______/______/______/______/______/_____ /\n",
        "*******************************************************************************\n",
        "''')\n",
        "print(\"Welcome to Treasure Island.\")\n",
        "print(\"Your mission is to find the treasure.\")\n",
        "\n",
        "choice1 = input('You\\'re at a cross road. Where do you want to go? Type \"left\" or \"right\" \\n').lower()\n",
        "if choice1 == \"left\":\n",
        "  choice2 = input('You\\'ve come to a lake. There is an island in the middle of the lake. Type \"wait\" to wait for a boat. Type \"swim\" to swim across. \\n').lower()\n",
        "  if choice2 == \"wait\":\n",
        "    choice3 = input(\"You arrive at the island unharmed. There is a house with 3 doors. One red, one yellow and one blue. Which colour do you choose? \\n\").lower()\n",
        "    if choice3 == \"red\":\n",
        "      print(\"It's a room full of fire. Game Over.\")\n",
        "    elif choice3 == \"yellow\":\n",
        "      print(\"You found the treasure! You Win!\")\n",
        "    elif choice3 == \"blue\":\n",
        "      print(\"You enter a room of beasts. Game Over.\")\n",
        "    else:\n",
        "      print(\"You chose a door that doesn't exist. Game Over.\")\n",
        "  else:\n",
        "    print(\"You get attacked by an angry trout. Game Over.\")\n",
        "else:\n",
        "  print(\"You fell into a hole. Game Over.\")"
      ],
      "metadata": {
        "colab": {
          "base_uri": "https://localhost:8080/"
        },
        "id": "o36hSQgf5V7v",
        "outputId": "eb5f41fe-58b5-4d5f-dc04-df8d0a0c74c4"
      },
      "execution_count": 12,
      "outputs": [
        {
          "output_type": "stream",
          "name": "stdout",
          "text": [
            "\n",
            "*******************************************************************************\n",
            "          |                   |                  |                     |\n",
            " _________|________________.=\"\"_;=.______________|_____________________|_______\n",
            "|                   |  ,-\"_,=\"\"     `\"=.|                  |\n",
            "|___________________|__\"=._o`\"-._        `\"=.______________|___________________\n",
            "          |                `\"=._o`\"=._      _`\"=._                     |\n",
            " _________|_____________________:=._o \"=._.\"_.-=\"'\"=.__________________|_______\n",
            "|                   |    __.--\" , ; `\"=._o.\" ,-\"\"\"-._ \".   |\n",
            "|___________________|_._\"  ,. .` ` `` ,  `\"-._\"-._   \". '__|___________________\n",
            "          |           |o`\"=._` , \"` `; .\". ,  \"-._\"-._; ;              |\n",
            " _________|___________| ;`-.o`\"=._; .\" ` '`.\"\\` . \"-._ /_______________|_______\n",
            "|                   | |o;    `\"-.o`\"=._``  '` \" ,__.--o;   |\n",
            "|___________________|_| ;     (#) `-.o `\"=.`_.--\"_o.-; ;___|___________________\n",
            "____/______/______/___|o;._    \"      `\".o|o_.--\"    ;o;____/______/______/____\n",
            "/______/______/______/_\"=._o--._        ; | ;        ; ;/______/______/______/_\n",
            "____/______/______/______/__\"=._o--._   ;o|o;     _._;o;____/______/______/____\n",
            "/______/______/______/______/____\"=._o._; | ;_.--\"o.--\"_/______/______/______/_\n",
            "____/______/______/______/______/_____\"=.o|o_.--\"\"___/______/______/______/____\n",
            "/______/______/______/______/______/______/______/______/______/______/_____ /\n",
            "*******************************************************************************\n",
            "\n",
            "Welcome to Treasure Island.\n",
            "Your mission is to find the treasure.\n",
            "You're at a cross road. Where do you want to go? Type \"left\" or \"right\" \n",
            "left\n",
            "You've come to a lake. There is an island in the middle of the lake. Type \"wait\" to wait for a boat. Type \"swim\" to swim across. \n",
            "wait\n",
            "You arrive at the island unharmed. There is a house with 3 doors. One red, one yellow and one blue. Which colour do you choose? \n",
            "yellow\n",
            "You found the treasure! You Win!\n"
          ]
        }
      ]
    }
  ]
}