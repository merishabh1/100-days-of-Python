{
  "nbformat": 4,
  "nbformat_minor": 0,
  "metadata": {
    "colab": {
      "provenance": [],
      "authorship_tag": "ABX9TyMXf6GNZNT2PtUS8xEEyWDW",
      "include_colab_link": true
    },
    "kernelspec": {
      "name": "python3",
      "display_name": "Python 3"
    },
    "language_info": {
      "name": "python"
    }
  },
  "cells": [
    {
      "cell_type": "markdown",
      "metadata": {
        "id": "view-in-github",
        "colab_type": "text"
      },
      "source": [
        "<a href=\"https://colab.research.google.com/github/merishabh1/100-days-of-Python/blob/main/Day_2_Python.ipynb\" target=\"_parent\"><img src=\"https://colab.research.google.com/assets/colab-badge.svg\" alt=\"Open In Colab\"/></a>"
      ]
    },
    {
      "cell_type": "code",
      "execution_count": 1,
      "metadata": {
        "colab": {
          "base_uri": "https://localhost:8080/"
        },
        "id": "K5EBVnprQeuA",
        "outputId": "817dc474-d764-4c6e-d1a5-f9315df28bab"
      },
      "outputs": [
        {
          "output_type": "stream",
          "name": "stdout",
          "text": [
            "H\n",
            "468\n",
            "123456789\n",
            "3.45\n",
            "True\n"
          ]
        }
      ],
      "source": [
        "#Data types\n",
        "print(\"Hello\"[0]) #String\n",
        "print(123+345) #Integer\n",
        "print(123_456_789)\n",
        "print(3.45) #Float\n",
        "print(True) #Boolean"
      ]
    },
    {
      "cell_type": "code",
      "source": [
        "num_char = len(input(\"What is your name?\"))\n",
        "print(\"Your name has \" + str(num_char) + \" characters\")"
      ],
      "metadata": {
        "colab": {
          "base_uri": "https://localhost:8080/"
        },
        "id": "rwrjb1M8Sbqn",
        "outputId": "0f5039b2-c88e-447c-bfc7-75bdfe4ccb78"
      },
      "execution_count": 5,
      "outputs": [
        {
          "output_type": "stream",
          "name": "stdout",
          "text": [
            "What is your name?Rishabh\n",
            "Your name has 7 characters\n"
          ]
        }
      ]
    },
    {
      "cell_type": "code",
      "source": [
        "a=float(123) #typecasting\n",
        "print(type(a))"
      ],
      "metadata": {
        "colab": {
          "base_uri": "https://localhost:8080/"
        },
        "id": "5r3xR3j_Tn2k",
        "outputId": "605cdb5f-6ff2-4913-d9b0-35c5a861b71b"
      },
      "execution_count": 6,
      "outputs": [
        {
          "output_type": "stream",
          "name": "stdout",
          "text": [
            "<class 'float'>\n"
          ]
        }
      ]
    },
    {
      "cell_type": "code",
      "source": [
        "#Write a program that adds the digits in a 2 digit number.\n",
        "two_digit_number = input(\"Type a two digit number: \")\n",
        "first_digit = int(two_digit_number[0])\n",
        "second_digit = int(two_digit_number[1])\n",
        "result = first_digit + second_digit\n",
        "print(result)"
      ],
      "metadata": {
        "colab": {
          "base_uri": "https://localhost:8080/"
        },
        "id": "JObXtuX8Uoem",
        "outputId": "1032fc97-931b-42a4-8041-fae62dcac7f9"
      },
      "execution_count": 7,
      "outputs": [
        {
          "output_type": "stream",
          "name": "stdout",
          "text": [
            "Type a two digit number: 56\n",
            "11\n"
          ]
        }
      ]
    },
    {
      "cell_type": "code",
      "source": [
        "print(3 + 5)\n",
        "print(7 - 4)\n",
        "print(3 * 2)\n",
        "print(6 / 3)\n",
        "print(2 ** 3)\n"
      ],
      "metadata": {
        "colab": {
          "base_uri": "https://localhost:8080/"
        },
        "id": "n0OqS3wXVJWT",
        "outputId": "dc9cf063-a51a-429f-c0ae-c3f783c70218"
      },
      "execution_count": 9,
      "outputs": [
        {
          "output_type": "stream",
          "name": "stdout",
          "text": [
            "8\n",
            "3\n",
            "6\n",
            "2.0\n",
            "8\n"
          ]
        }
      ]
    },
    {
      "cell_type": "code",
      "source": [
        "#bmi calculator\n",
        "height = input(\"enter your height in m: \")\n",
        "weight = input(\"enter your weight in kg: \")\n",
        "bmi = float(weight) / float(height) **2\n",
        "bmi_int = int(bmi)\n",
        "print(bmi_int)"
      ],
      "metadata": {
        "colab": {
          "base_uri": "https://localhost:8080/"
        },
        "id": "X8v3o6pZW5qb",
        "outputId": "6d897d2a-3a2c-43de-d9fc-87a3635f2158"
      },
      "execution_count": 11,
      "outputs": [
        {
          "output_type": "stream",
          "name": "stdout",
          "text": [
            "enter your height in m: 1.75\n",
            "enter your weight in kg: 80\n",
            "26\n"
          ]
        }
      ]
    },
    {
      "cell_type": "code",
      "source": [
        "print(round(8/3,2))\n",
        "print(8 // 3) #Floor division"
      ],
      "metadata": {
        "colab": {
          "base_uri": "https://localhost:8080/"
        },
        "id": "_gLSzEwDXFUj",
        "outputId": "b077e67c-8e6f-4266-c6a6-2dc071f6a94b"
      },
      "execution_count": 14,
      "outputs": [
        {
          "output_type": "stream",
          "name": "stdout",
          "text": [
            "2.67\n",
            "2\n"
          ]
        }
      ]
    },
    {
      "cell_type": "code",
      "source": [
        "result = 4 /2\n",
        "result /= 2\n",
        "print(result)"
      ],
      "metadata": {
        "colab": {
          "base_uri": "https://localhost:8080/"
        },
        "id": "scUib9wKXFse",
        "outputId": "9d46262d-4984-41a0-cea9-5f4c97c721e2"
      },
      "execution_count": 16,
      "outputs": [
        {
          "output_type": "stream",
          "name": "stdout",
          "text": [
            "1.0\n"
          ]
        }
      ]
    },
    {
      "cell_type": "code",
      "source": [
        "score  = 0\n",
        "height = 1.8\n",
        "isWinning = True\n",
        "#f-string\n",
        "print(f\"Your score is {score}, your height is {height}, you are winning is {isWinning}\")"
      ],
      "metadata": {
        "colab": {
          "base_uri": "https://localhost:8080/"
        },
        "id": "OmR3aGhaXF27",
        "outputId": "73929647-15bb-45af-b507-fc7eaf3bc9c9"
      },
      "execution_count": 17,
      "outputs": [
        {
          "output_type": "stream",
          "name": "stdout",
          "text": [
            "Your score is 0, your height is 1.8, you are winning is True\n"
          ]
        }
      ]
    },
    {
      "cell_type": "code",
      "source": [
        "#Create a program using maths and f-Strings that tells us how many days, weeks, months we have left if we live until 90 years old.\n",
        "age = input(\"What is your current age?\")\n",
        "days = (90 - int(age))*365\n",
        "weeks = (90 - int(age))*52\n",
        "months = (90 - int(age))*12\n",
        "print(f\"You have {days} days, {weeks} weeks, and {months} months left.\")"
      ],
      "metadata": {
        "colab": {
          "base_uri": "https://localhost:8080/"
        },
        "id": "wB1wd4DNZAVf",
        "outputId": "7e18d4c5-16cc-4fdd-cf52-2579dd912828"
      },
      "execution_count": 18,
      "outputs": [
        {
          "output_type": "stream",
          "name": "stdout",
          "text": [
            "What is your current age?89\n",
            "You have 365 days, 52 weeks, and 12 months left.\n"
          ]
        }
      ]
    },
    {
      "cell_type": "code",
      "source": [
        "#Day-2 Project - Tip Calculator\n",
        "print(\"Welcome to the tip calculator!\")\n",
        "bill = float(input(\"What was the total bill? $\"))\n",
        "tip = int(input(\"What percentage tip would you like to give? 10, 12 or 15? \"))\n",
        "people = int(input(\"How many people to split the bill? \"))\n",
        "Total_bill_amount = bill * ( 1 + tip/100) \n",
        "Each_person_bill = round((Total_bill_amount / people),2)\n",
        "Each_person_bill = \"{:.2f}\".format(Total_bill_amount / people)\n",
        "print(f\"Each person should pay: ${Each_person_bill}\")\n"
      ],
      "metadata": {
        "colab": {
          "base_uri": "https://localhost:8080/"
        },
        "id": "Em6ynHeXZAuS",
        "outputId": "10ca319f-eb67-42af-f9c9-6e40582a974e"
      },
      "execution_count": 22,
      "outputs": [
        {
          "output_type": "stream",
          "name": "stdout",
          "text": [
            "Welcome to the tip calculator!\n",
            "What was the total bill? $150\n",
            "What percentage tip would you like to give? 10, 12 or 15? 12\n",
            "How many people to split the bill? 5\n",
            "Each person should pay: $33.60\n"
          ]
        }
      ]
    }
  ]
}