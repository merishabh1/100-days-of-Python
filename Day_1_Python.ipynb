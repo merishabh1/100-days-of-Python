{
  "nbformat": 4,
  "nbformat_minor": 0,
  "metadata": {
    "colab": {
      "provenance": [],
      "authorship_tag": "ABX9TyOvEhI33qJKr9tj6nA1NGBA",
      "include_colab_link": true
    },
    "kernelspec": {
      "name": "python3",
      "display_name": "Python 3"
    },
    "language_info": {
      "name": "python"
    }
  },
  "cells": [
    {
      "cell_type": "markdown",
      "metadata": {
        "id": "view-in-github",
        "colab_type": "text"
      },
      "source": [
        "<a href=\"https://colab.research.google.com/github/merishabh1/100-days-of-Python/blob/main/Day_1_Python.ipynb\" target=\"_parent\"><img src=\"https://colab.research.google.com/assets/colab-badge.svg\" alt=\"Open In Colab\"/></a>"
      ]
    },
    {
      "cell_type": "code",
      "execution_count": 1,
      "metadata": {
        "colab": {
          "base_uri": "https://localhost:8080/"
        },
        "id": "kwYrGvwsZCHe",
        "outputId": "1c0099f1-c759-4e54-a2a6-0f2667d3dfbf"
      },
      "outputs": [
        {
          "output_type": "stream",
          "name": "stdout",
          "text": [
            "Hello World!\n"
          ]
        }
      ],
      "source": [
        "print('Hello World!')"
      ]
    },
    {
      "cell_type": "code",
      "source": [
        "print(\"Day 1 - Python Print Function\")\n",
        "print(\"The function is declared like this:\")\n",
        "print(\"print('what to print')\")"
      ],
      "metadata": {
        "colab": {
          "base_uri": "https://localhost:8080/"
        },
        "id": "8zKWshuab4V6",
        "outputId": "4d590cff-5828-4a8a-cf0f-2b71bd8a160d"
      },
      "execution_count": 2,
      "outputs": [
        {
          "output_type": "stream",
          "name": "stdout",
          "text": [
            "Day 1 - Python Print Function\n",
            "The function is declared like this:\n",
            "print('what to print')\n"
          ]
        }
      ]
    },
    {
      "cell_type": "code",
      "source": [
        "print(\"Hello world!\\nHello world!\")"
      ],
      "metadata": {
        "colab": {
          "base_uri": "https://localhost:8080/"
        },
        "id": "2e7V8dekdYdG",
        "outputId": "3cca03ab-7cfe-4e64-e13a-2b30f9d97d00"
      },
      "execution_count": 3,
      "outputs": [
        {
          "output_type": "stream",
          "name": "stdout",
          "text": [
            "Hello world!\n",
            "Hello world!\n"
          ]
        }
      ]
    },
    {
      "cell_type": "code",
      "source": [
        "print(\"Hello\" + \" Rishabh\")"
      ],
      "metadata": {
        "colab": {
          "base_uri": "https://localhost:8080/"
        },
        "id": "IxMFEEByeZZk",
        "outputId": "4c366c0e-0b14-4f12-fd4a-2a378f189e4a"
      },
      "execution_count": 4,
      "outputs": [
        {
          "output_type": "stream",
          "name": "stdout",
          "text": [
            "Hello Rishabh\n"
          ]
        }
      ]
    },
    {
      "cell_type": "code",
      "source": [
        "print(\"Day 1 - String Manipulation\")\n",
        "print('String Concatenation is done with the \"+\" sign.')\n",
        "print('e.g. print(\"Hello \" + \"world\")')\n",
        "print(\"New lines can be created with a backslash and n.\")"
      ],
      "metadata": {
        "colab": {
          "base_uri": "https://localhost:8080/"
        },
        "id": "6A6JL0DdewMN",
        "outputId": "9c6f4344-2c42-4afd-82b9-f07fc3b9467a"
      },
      "execution_count": 5,
      "outputs": [
        {
          "output_type": "stream",
          "name": "stdout",
          "text": [
            "Day 1 - String Manipulation\n",
            "String Concatenation is done with the \"+\" sign.\n",
            "e.g. print(\"Hello \" + \"world\")\n",
            "New lines can be created with a backslash and n.\n"
          ]
        }
      ]
    },
    {
      "cell_type": "code",
      "source": [
        "#Input Function\n",
        "print(\"Hello\" + \" \" + input(\"What is your name? \") + \"!\")"
      ],
      "metadata": {
        "colab": {
          "base_uri": "https://localhost:8080/"
        },
        "id": "mJZRtusIfxdS",
        "outputId": "2f882ff6-a84e-4379-df29-bd61f8d2e862"
      },
      "execution_count": 8,
      "outputs": [
        {
          "output_type": "stream",
          "name": "stdout",
          "text": [
            "What is your name? Rishabh\n",
            "Hello Rishabh!\n"
          ]
        }
      ]
    },
    {
      "cell_type": "code",
      "source": [
        "name = input(\"What is your name? \")\n",
        "print(len(name))"
      ],
      "metadata": {
        "colab": {
          "base_uri": "https://localhost:8080/"
        },
        "id": "OJj788uOhc0C",
        "outputId": "ead8d996-480a-4195-c514-41ae4558ab30"
      },
      "execution_count": 10,
      "outputs": [
        {
          "output_type": "stream",
          "name": "stdout",
          "text": [
            "What is your name? Rishabh Srivastava\n",
            "18\n"
          ]
        }
      ]
    },
    {
      "cell_type": "code",
      "source": [
        "#Switching values\n",
        "a = input(\"a: \")\n",
        "b = input(\"b: \")\n",
        "c = a\n",
        "a = b\n",
        "b = c\n",
        "print(\"a: \" + a)\n",
        "print(\"b: \" + b)\n"
      ],
      "metadata": {
        "colab": {
          "base_uri": "https://localhost:8080/"
        },
        "id": "BfysYxLAkEJz",
        "outputId": "24afa794-b6f6-4a2a-eda1-dcf6e889adaf"
      },
      "execution_count": 11,
      "outputs": [
        {
          "output_type": "stream",
          "name": "stdout",
          "text": [
            "a: 5\n",
            "b: 10\n",
            "a: 10\n",
            "b: 5\n"
          ]
        }
      ]
    },
    {
      "cell_type": "code",
      "source": [
        "#Project - Band Name Generator\n",
        "#1. Create a greeting for your program.\n",
        "print(\"Welcome to the Band name generator.\")\n",
        "#2. Ask the user for the city that they grew up in.\n",
        "city = input(\"Which city did you grow up in?\\n\")\n",
        "#3. Ask the user for the name of a pet.\n",
        "pet = input(\"What is name of a pet?\\n\")\n",
        "#4. Combine the name of their city and pet and show them their band name.\n",
        "print(\"Your band name couuld be \" + city + \" \" + pet)\n"
      ],
      "metadata": {
        "colab": {
          "base_uri": "https://localhost:8080/"
        },
        "id": "EHF_vIVQlS31",
        "outputId": "973038f0-0eb2-4f18-d7be-3286a5edf145"
      },
      "execution_count": 12,
      "outputs": [
        {
          "output_type": "stream",
          "name": "stdout",
          "text": [
            "Welcome to the Band name generator.\n",
            "Which city did you grow up in?\n",
            "Delhi\n",
            "What is name of a pet?\n",
            "Panthers\n",
            "Your band name couuld be Delhi Panthers\n"
          ]
        }
      ]
    }
  ]
}