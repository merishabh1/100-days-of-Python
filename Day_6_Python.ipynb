{
  "nbformat": 4,
  "nbformat_minor": 0,
  "metadata": {
    "colab": {
      "provenance": [],
      "authorship_tag": "ABX9TyMcat5DzDLZX0X3SY78qwdl",
      "include_colab_link": true
    },
    "kernelspec": {
      "name": "python3",
      "display_name": "Python 3"
    },
    "language_info": {
      "name": "python"
    }
  },
  "cells": [
    {
      "cell_type": "markdown",
      "metadata": {
        "id": "view-in-github",
        "colab_type": "text"
      },
      "source": [
        "<a href=\"https://colab.research.google.com/github/merishabh1/100-days-of-Python/blob/main/Day_6_Python.ipynb\" target=\"_parent\"><img src=\"https://colab.research.google.com/assets/colab-badge.svg\" alt=\"Open In Colab\"/></a>"
      ]
    },
    {
      "cell_type": "code",
      "execution_count": 1,
      "metadata": {
        "colab": {
          "base_uri": "https://localhost:8080/"
        },
        "id": "lcUEnDYvV7La",
        "outputId": "d905255b-02ec-4ff6-86f2-46788ded5d56"
      },
      "outputs": [
        {
          "output_type": "stream",
          "name": "stdout",
          "text": [
            "Hello\n",
            "bye\n"
          ]
        }
      ],
      "source": [
        "def my_function():\n",
        "  print(\"Hello\")\n",
        "  print(\"bye\")\n",
        "my_function()"
      ]
    },
    {
      "cell_type": "code",
      "source": [
        "for loop Example\n",
        "def turn_right():\n",
        "  turn_left()\n",
        "  turn_left()\n",
        "  turn_left()\n",
        "\n",
        "def jump():\n",
        "  move()\n",
        "  turn_left()\n",
        "  move()\n",
        "  turn_right()\n",
        "  move()\n",
        "  turn_right()\n",
        "  move()\n",
        "  turn_left()\n",
        "\n",
        "for step in range(6):\n",
        "  jump()"
      ],
      "metadata": {
        "id": "4WT4LbfTcxpv"
      },
      "execution_count": 7,
      "outputs": []
    },
    {
      "cell_type": "code",
      "source": [
        "while loop Example\n",
        "def turn_right():\n",
        "    turn_left()\n",
        "    turn_left()\n",
        "    turn_left()\n",
        "\n",
        "def jump():\n",
        "    move()\n",
        "    turn_left()\n",
        "    move()\n",
        "    turn_right()\n",
        "    move()\n",
        "    turn_right()\n",
        "    move()\n",
        "    turn_left()\n",
        "\n",
        "number_of_hurdles = 6\n",
        "while number_of_hurdles > 0:\n",
        "  jump()\n",
        "  number_of_hurdles -= 1"
      ],
      "metadata": {
        "id": "pVO1nRSkfOlf"
      },
      "execution_count": null,
      "outputs": []
    },
    {
      "cell_type": "code",
      "source": [
        "while loop Example\n",
        "def turn_right():\n",
        "    turn_left()\n",
        "    turn_left()\n",
        "    turn_left()\n",
        "\n",
        "def jump():\n",
        "    move()\n",
        "    turn_left()\n",
        "    move()\n",
        "    turn_right()\n",
        "    move()\n",
        "    turn_right()\n",
        "    move()\n",
        "    turn_left()\n",
        "\n",
        "while not at_goal():\n",
        "    jump()\n",
        "\n"
      ],
      "metadata": {
        "id": "NSqF4EEHgdKc"
      },
      "execution_count": 3,
      "outputs": []
    },
    {
      "cell_type": "code",
      "source": [
        "def turn_right():\n",
        "    turn_left()\n",
        "    turn_left()\n",
        "    turn_left()\n",
        "\n",
        "def jump():\n",
        "    turn_left()\n",
        "    move()\n",
        "    turn_right()\n",
        "    move()\n",
        "    turn_right()\n",
        "    move()\n",
        "    turn_left()\n",
        "\n",
        "while not at_goal():\n",
        "    if wall_in_front():\n",
        "        jump()\n",
        "    else:\n",
        "        move()"
      ],
      "metadata": {
        "id": "309D-a7Kgjdx"
      },
      "execution_count": null,
      "outputs": []
    },
    {
      "cell_type": "code",
      "source": [
        "def turn_right():\n",
        "    turn_left()\n",
        "    turn_left()\n",
        "    turn_left()\n",
        "\n",
        "def jump():\n",
        "    turn_left()\n",
        "    while wall_on_right():\n",
        "        move()\n",
        "    turn_right()\n",
        "    move()\n",
        "    turn_right()\n",
        "    while front_is_clear():\n",
        "        move()\n",
        "    turn_left()\n",
        "\n",
        "    \n",
        "while not at_goal():\n",
        "    if wall_in_front():\n",
        "        jump()\n",
        "    else:\n",
        "        move()"
      ],
      "metadata": {
        "id": "IEJ4Vnfdks1j"
      },
      "execution_count": null,
      "outputs": []
    },
    {
      "cell_type": "code",
      "source": [
        "def turn_right():\n",
        "    turn_left()\n",
        "    turn_left()\n",
        "    turn_left()\n",
        "\n",
        "while front_is_clear():\n",
        "    move()\n",
        "turn_left()\n",
        "while not at_goal():\n",
        "    if right_is_clear():\n",
        "        turn_right()\n",
        "        move()\n",
        "    elif front_is_clear():\n",
        "        move()\n",
        "    else:\n",
        "        turn_left()"
      ],
      "metadata": {
        "id": "4mb7dZ6Elbcj"
      },
      "execution_count": null,
      "outputs": []
    }
  ]
}